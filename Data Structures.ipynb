{
 "cells": [
  {
   "cell_type": "code",
   "execution_count": 3,
   "id": "b7f9e319-12ab-4ab8-882b-bd05b551b18b",
   "metadata": {},
   "outputs": [
    {
     "name": "stdout",
     "output_type": "stream",
     "text": [
      "4\n"
     ]
    }
   ],
   "source": [
    "list = [1,2,3,4,5]\n",
    "print(list[3])"
   ]
  },
  {
   "cell_type": "code",
   "execution_count": 11,
   "id": "c7c91bad-67dc-4876-ba96-d9bc06b01e23",
   "metadata": {},
   "outputs": [
    {
     "name": "stdout",
     "output_type": "stream",
     "text": [
      "1,2,3,4,5,"
     ]
    }
   ],
   "source": [
    "for items in list:\n",
    "    print(items , end =\",\" )"
   ]
  },
  {
   "cell_type": "code",
   "execution_count": 19,
   "id": "c84b2f3b-f573-4e19-ae10-48682d15b085",
   "metadata": {},
   "outputs": [
    {
     "name": "stdout",
     "output_type": "stream",
     "text": [
      "[1, 2, 10, 4, 5]\n"
     ]
    }
   ],
   "source": [
    "list[2]=10\n",
    "print(list)"
   ]
  },
  {
   "cell_type": "code",
   "execution_count": 37,
   "id": "c0f08c72-ce9c-4be7-ae1f-21e8d01373ed",
   "metadata": {},
   "outputs": [
    {
     "name": "stdout",
     "output_type": "stream",
     "text": [
      "[45, 2, 10, 4, 5]\n"
     ]
    }
   ],
   "source": [
    "ind =0\n",
    "for items in list:\n",
    "    if items == 2:\n",
    "        list[ind]=45\n",
    "        ind+=1\n",
    "print(list)"
   ]
  },
  {
   "cell_type": "code",
   "execution_count": null,
   "id": "2704d4d3-1e31-437a-97bc-961604b6ba4b",
   "metadata": {},
   "outputs": [],
   "source": [
    "data = {key:value}"
   ]
  },
  {
   "cell_type": "code",
   "execution_count": 1,
   "id": "5cd1b9b6-c6a8-4c55-b0eb-6b2148fc5330",
   "metadata": {},
   "outputs": [],
   "source": [
    "my_diet ={\n",
    "    \"name\":\"Quinn\",\n",
    "     \"age\":23,\n",
    "}"
   ]
  },
  {
   "cell_type": "code",
   "execution_count": 3,
   "id": "8f9cd596-48bd-447e-9500-15a677f79a0a",
   "metadata": {},
   "outputs": [
    {
     "name": "stdout",
     "output_type": "stream",
     "text": [
      "{'name': 'Quinn', 'age': 23}\n"
     ]
    }
   ],
   "source": [
    "print(my_diet)"
   ]
  },
  {
   "cell_type": "code",
   "execution_count": 21,
   "id": "f232cc66-feaf-4342-83c3-2b4334280703",
   "metadata": {},
   "outputs": [
    {
     "name": "stdout",
     "output_type": "stream",
     "text": [
      "{'name': ['person 1', 'person 2', 'person 3', 'person 4', 'person 5'], 'age': [23, 22, 21, 20, 24], 'salary': [40000, 50000, 60000, 70000, 80000]}\n"
     ]
    }
   ],
   "source": [
    "my_dictionary={\n",
    "    \"name\":[\"person 1\",\"person 2\",\"person 3\",\"person 4\",\"person 5\"],\n",
    "    \"age\":[23,22,21,20,24],\n",
    "    \"salary\":[40000,50000,60000,70000,80000]\n",
    "}\n",
    "print(my_dictionary)"
   ]
  },
  {
   "cell_type": "code",
   "execution_count": 9,
   "id": "f9397560-3ac6-47ce-acc0-d3c574114836",
   "metadata": {},
   "outputs": [
    {
     "data": {
      "text/plain": [
       "{'name': ['person 1', 'person 2', 'person 3', 'person 4', 'person 5'],\n",
       " 'age': [23, 22, 21, 20, 24],\n",
       " 'salary': [40000, 50000, 60000, 70000, 80000]}"
      ]
     },
     "execution_count": 9,
     "metadata": {},
     "output_type": "execute_result"
    }
   ],
   "source": [
    "my_dictionary"
   ]
  },
  {
   "cell_type": "code",
   "execution_count": 11,
   "id": "96724df8-0512-4861-ab5b-6c359022b188",
   "metadata": {},
   "outputs": [
    {
     "name": "stdout",
     "output_type": "stream",
     "text": [
      "{'name': ['person 1', 'person 2', 'person 3', 'person 4', 'person 5'], 'age': [23, 22, 21, 20, 24], 'salary': [40000, 50000, 60000, 70000, 80000]}\n"
     ]
    }
   ],
   "source": [
    "print(my_dictionary)"
   ]
  },
  {
   "cell_type": "code",
   "execution_count": 19,
   "id": "5ea62fa6-28d4-41ab-a67d-c831ad29bb37",
   "metadata": {},
   "outputs": [],
   "source": [
    "my_dictionary[\"Location\"] =[\"Mombasa\",\"Kisumu\",\"Nakuru\",\"Homabay\"]"
   ]
  },
  {
   "cell_type": "code",
   "execution_count": 25,
   "id": "4d684539-c1a9-4642-ad02-f2f9fe6e1213",
   "metadata": {},
   "outputs": [
    {
     "data": {
      "text/plain": [
       "{'name': ['person 1', 'person 2', 'person 3', 'person 4', 'person 5'],\n",
       " 'age': [23, 22, 21, 20, 24],\n",
       " 'salary': [40000, 50000, 60000, 70000, 80000]}"
      ]
     },
     "execution_count": 25,
     "metadata": {},
     "output_type": "execute_result"
    }
   ],
   "source": [
    "my_dictionary"
   ]
  },
  {
   "cell_type": "code",
   "execution_count": 23,
   "id": "25292fe1-6167-4aff-94bd-80ebb052ae90",
   "metadata": {},
   "outputs": [],
   "source": [
    "del my_dictionary[\"Location\"]"
   ]
  },
  {
   "cell_type": "code",
   "execution_count": 27,
   "id": "efc66617-580b-4d71-b41e-b4f7dcbd71e7",
   "metadata": {},
   "outputs": [
    {
     "name": "stdout",
     "output_type": "stream",
     "text": [
      "name ['person 1', 'person 2', 'person 3', 'person 4', 'person 5']\n",
      "age [23, 22, 21, 20, 24]\n",
      "salary [40000, 50000, 60000, 70000, 80000]\n"
     ]
    }
   ],
   "source": [
    "for key,value in my_dictionary.items():\n",
    "    print(key,value)"
   ]
  },
  {
   "cell_type": "code",
   "execution_count": 29,
   "id": "7e2445ca-3dda-48c0-997a-16b014c8c429",
   "metadata": {},
   "outputs": [
    {
     "data": {
      "text/plain": [
       "[23, 22, 21, 20, 24]"
      ]
     },
     "execution_count": 29,
     "metadata": {},
     "output_type": "execute_result"
    }
   ],
   "source": [
    "my_dictionary.get(\"age\")"
   ]
  },
  {
   "cell_type": "code",
   "execution_count": 99,
   "id": "c5495110-6d43-4140-840d-a0bd977d0b8e",
   "metadata": {},
   "outputs": [],
   "source": [
    "table ={\n",
    "    \"names\":[\"Alice\",\"John\",\"Brice\",\"Anita\"],\n",
    "    \"age\":[20,21,23,24],\n",
    "    \"Month of birth\":[\"September\",\"July\",\"August\",\"December\"],\n",
    "    \n",
    "\n",
    "}\n"
   ]
  },
  {
   "cell_type": "code",
   "execution_count": 91,
   "id": "3b6f3d2d-4e3d-4de5-a530-929a30e062c2",
   "metadata": {},
   "outputs": [
    {
     "data": {
      "text/plain": [
       "{'names': ['Alice', 'John', 'Brice', 'Anita'],\n",
       " 'age': [20, 21, 23, 24],\n",
       " 'Month of birth': ['September', 'July', 'August', 'December']}"
      ]
     },
     "execution_count": 91,
     "metadata": {},
     "output_type": "execute_result"
    }
   ],
   "source": [
    "table"
   ]
  },
  {
   "cell_type": "code",
   "execution_count": 85,
   "id": "ae5f7bb2-4b68-4d9d-a5fe-85f52174ada9",
   "metadata": {},
   "outputs": [
    {
     "data": {
      "text/plain": [
       "{'names': ['Alice', 'John', 'Brice', 'Anita'],\n",
       " 'age': [20, 21, 23, 24],\n",
       " 'Month of birth': ['September', 'July', 'August', 'December']}"
      ]
     },
     "execution_count": 85,
     "metadata": {},
     "output_type": "execute_result"
    }
   ],
   "source": [
    "table"
   ]
  },
  {
   "cell_type": "code",
   "execution_count": 63,
   "id": "263045ee-6d4a-4ace-8e52-50905d6f66c7",
   "metadata": {},
   "outputs": [],
   "source": [
    "tuple =(\"hello\",\"world\",\"call\")\n"
   ]
  },
  {
   "cell_type": "code",
   "execution_count": 79,
   "id": "ca9c5d32-6375-419e-8910-5e64502c4fae",
   "metadata": {},
   "outputs": [
    {
     "data": {
      "text/plain": [
       "('hello', 'world', 'call')"
      ]
     },
     "execution_count": 79,
     "metadata": {},
     "output_type": "execute_result"
    }
   ],
   "source": [
    "tuple"
   ]
  },
  {
   "cell_type": "code",
   "execution_count": 15,
   "id": "ff0a0d44-a145-4f9c-92ae-8a3ba1920190",
   "metadata": {},
   "outputs": [],
   "source": [
    "import pandas as pd"
   ]
  },
  {
   "cell_type": "code",
   "execution_count": 23,
   "id": "40114c00-e42a-49a5-8810-1f36be10a594",
   "metadata": {},
   "outputs": [
    {
     "data": {
      "text/plain": [
       "{'name': ['person 1', 'person 2', 'person 3', 'person 4', 'person 5'],\n",
       " 'age': [23, 22, 21, 20, 24],\n",
       " 'salary': [40000, 50000, 60000, 70000, 80000]}"
      ]
     },
     "execution_count": 23,
     "metadata": {},
     "output_type": "execute_result"
    }
   ],
   "source": [
    "my_dictionary"
   ]
  },
  {
   "cell_type": "code",
   "execution_count": 25,
   "id": "8d6c2e48-2bd1-4793-b7d0-2bb8cb1a3f73",
   "metadata": {},
   "outputs": [],
   "source": [
    "df = pd.DataFrame(my_dictionary)"
   ]
  },
  {
   "cell_type": "code",
   "execution_count": 27,
   "id": "e7595445-5765-4c1e-ba72-f1bde5ae8876",
   "metadata": {},
   "outputs": [
    {
     "data": {
      "text/html": [
       "<div>\n",
       "<style scoped>\n",
       "    .dataframe tbody tr th:only-of-type {\n",
       "        vertical-align: middle;\n",
       "    }\n",
       "\n",
       "    .dataframe tbody tr th {\n",
       "        vertical-align: top;\n",
       "    }\n",
       "\n",
       "    .dataframe thead th {\n",
       "        text-align: right;\n",
       "    }\n",
       "</style>\n",
       "<table border=\"1\" class=\"dataframe\">\n",
       "  <thead>\n",
       "    <tr style=\"text-align: right;\">\n",
       "      <th></th>\n",
       "      <th>name</th>\n",
       "      <th>age</th>\n",
       "      <th>salary</th>\n",
       "    </tr>\n",
       "  </thead>\n",
       "  <tbody>\n",
       "    <tr>\n",
       "      <th>0</th>\n",
       "      <td>person 1</td>\n",
       "      <td>23</td>\n",
       "      <td>40000</td>\n",
       "    </tr>\n",
       "    <tr>\n",
       "      <th>1</th>\n",
       "      <td>person 2</td>\n",
       "      <td>22</td>\n",
       "      <td>50000</td>\n",
       "    </tr>\n",
       "    <tr>\n",
       "      <th>2</th>\n",
       "      <td>person 3</td>\n",
       "      <td>21</td>\n",
       "      <td>60000</td>\n",
       "    </tr>\n",
       "    <tr>\n",
       "      <th>3</th>\n",
       "      <td>person 4</td>\n",
       "      <td>20</td>\n",
       "      <td>70000</td>\n",
       "    </tr>\n",
       "    <tr>\n",
       "      <th>4</th>\n",
       "      <td>person 5</td>\n",
       "      <td>24</td>\n",
       "      <td>80000</td>\n",
       "    </tr>\n",
       "  </tbody>\n",
       "</table>\n",
       "</div>"
      ],
      "text/plain": [
       "       name  age  salary\n",
       "0  person 1   23   40000\n",
       "1  person 2   22   50000\n",
       "2  person 3   21   60000\n",
       "3  person 4   20   70000\n",
       "4  person 5   24   80000"
      ]
     },
     "execution_count": 27,
     "metadata": {},
     "output_type": "execute_result"
    }
   ],
   "source": [
    "df"
   ]
  },
  {
   "cell_type": "code",
   "execution_count": 31,
   "id": "bd40f642-0293-46bb-b0fb-0b0a000e94a2",
   "metadata": {},
   "outputs": [
    {
     "data": {
      "text/plain": [
       "name      object\n",
       "age        int64\n",
       "salary     int64\n",
       "dtype: object"
      ]
     },
     "execution_count": 31,
     "metadata": {},
     "output_type": "execute_result"
    }
   ],
   "source": [
    "df.dtypes"
   ]
  },
  {
   "cell_type": "code",
   "execution_count": 101,
   "id": "1d46962f-2765-458a-81d6-1713584b7b32",
   "metadata": {},
   "outputs": [],
   "source": [
    "dataframe =pd.DataFrame(table)"
   ]
  },
  {
   "cell_type": "code",
   "execution_count": 103,
   "id": "3c1f7e67-f566-428c-87b0-830ea672bab1",
   "metadata": {},
   "outputs": [
    {
     "data": {
      "text/html": [
       "<div>\n",
       "<style scoped>\n",
       "    .dataframe tbody tr th:only-of-type {\n",
       "        vertical-align: middle;\n",
       "    }\n",
       "\n",
       "    .dataframe tbody tr th {\n",
       "        vertical-align: top;\n",
       "    }\n",
       "\n",
       "    .dataframe thead th {\n",
       "        text-align: right;\n",
       "    }\n",
       "</style>\n",
       "<table border=\"1\" class=\"dataframe\">\n",
       "  <thead>\n",
       "    <tr style=\"text-align: right;\">\n",
       "      <th></th>\n",
       "      <th>names</th>\n",
       "      <th>age</th>\n",
       "      <th>Month of birth</th>\n",
       "    </tr>\n",
       "  </thead>\n",
       "  <tbody>\n",
       "    <tr>\n",
       "      <th>0</th>\n",
       "      <td>Alice</td>\n",
       "      <td>20</td>\n",
       "      <td>September</td>\n",
       "    </tr>\n",
       "    <tr>\n",
       "      <th>1</th>\n",
       "      <td>John</td>\n",
       "      <td>21</td>\n",
       "      <td>July</td>\n",
       "    </tr>\n",
       "    <tr>\n",
       "      <th>2</th>\n",
       "      <td>Brice</td>\n",
       "      <td>23</td>\n",
       "      <td>August</td>\n",
       "    </tr>\n",
       "    <tr>\n",
       "      <th>3</th>\n",
       "      <td>Anita</td>\n",
       "      <td>24</td>\n",
       "      <td>December</td>\n",
       "    </tr>\n",
       "  </tbody>\n",
       "</table>\n",
       "</div>"
      ],
      "text/plain": [
       "   names  age Month of birth\n",
       "0  Alice   20      September\n",
       "1   John   21           July\n",
       "2  Brice   23         August\n",
       "3  Anita   24       December"
      ]
     },
     "execution_count": 103,
     "metadata": {},
     "output_type": "execute_result"
    }
   ],
   "source": [
    "dataframe"
   ]
  },
  {
   "cell_type": "code",
   "execution_count": 119,
   "id": "42cd748f-ca88-4df7-9a6e-ebdfc6068408",
   "metadata": {},
   "outputs": [
    {
     "data": {
      "text/html": [
       "<div>\n",
       "<style scoped>\n",
       "    .dataframe tbody tr th:only-of-type {\n",
       "        vertical-align: middle;\n",
       "    }\n",
       "\n",
       "    .dataframe tbody tr th {\n",
       "        vertical-align: top;\n",
       "    }\n",
       "\n",
       "    .dataframe thead th {\n",
       "        text-align: right;\n",
       "    }\n",
       "</style>\n",
       "<table border=\"1\" class=\"dataframe\">\n",
       "  <thead>\n",
       "    <tr style=\"text-align: right;\">\n",
       "      <th></th>\n",
       "      <th>name</th>\n",
       "      <th>age</th>\n",
       "      <th>salary</th>\n",
       "    </tr>\n",
       "  </thead>\n",
       "  <tbody>\n",
       "    <tr>\n",
       "      <th>0</th>\n",
       "      <td>person 1</td>\n",
       "      <td>23</td>\n",
       "      <td>40000</td>\n",
       "    </tr>\n",
       "    <tr>\n",
       "      <th>1</th>\n",
       "      <td>person 2</td>\n",
       "      <td>22</td>\n",
       "      <td>50000</td>\n",
       "    </tr>\n",
       "    <tr>\n",
       "      <th>2</th>\n",
       "      <td>person 3</td>\n",
       "      <td>21</td>\n",
       "      <td>60000</td>\n",
       "    </tr>\n",
       "    <tr>\n",
       "      <th>3</th>\n",
       "      <td>person 4</td>\n",
       "      <td>20</td>\n",
       "      <td>70000</td>\n",
       "    </tr>\n",
       "    <tr>\n",
       "      <th>4</th>\n",
       "      <td>person 5</td>\n",
       "      <td>24</td>\n",
       "      <td>80000</td>\n",
       "    </tr>\n",
       "  </tbody>\n",
       "</table>\n",
       "</div>"
      ],
      "text/plain": [
       "       name  age  salary\n",
       "0  person 1   23   40000\n",
       "1  person 2   22   50000\n",
       "2  person 3   21   60000\n",
       "3  person 4   20   70000\n",
       "4  person 5   24   80000"
      ]
     },
     "execution_count": 119,
     "metadata": {},
     "output_type": "execute_result"
    }
   ],
   "source": [
    "df[[\"name\" ,\"age\" , \"salary\"]]"
   ]
  },
  {
   "cell_type": "code",
   "execution_count": 125,
   "id": "07f78cf2-f63d-40fc-8248-c40f3cecc21b",
   "metadata": {},
   "outputs": [
    {
     "data": {
      "text/plain": [
       "0    24\n",
       "1    23\n",
       "2    22\n",
       "3    21\n",
       "4    25\n",
       "Name: age, dtype: int64"
      ]
     },
     "execution_count": 125,
     "metadata": {},
     "output_type": "execute_result"
    }
   ],
   "source": [
    "df[\"age\"]+1"
   ]
  },
  {
   "cell_type": "code",
   "execution_count": 127,
   "id": "049dea07-aac7-4b05-901a-037a0ea7beea",
   "metadata": {},
   "outputs": [
    {
     "data": {
      "text/plain": [
       "0    person 11\n",
       "1    person 21\n",
       "2    person 31\n",
       "3    person 41\n",
       "4    person 51\n",
       "Name: name, dtype: object"
      ]
     },
     "execution_count": 127,
     "metadata": {},
     "output_type": "execute_result"
    }
   ],
   "source": [
    "df[\"name\"]+\"1\""
   ]
  },
  {
   "cell_type": "code",
   "execution_count": 135,
   "id": "027757a1-2900-4ea5-bb4c-82c96ab09946",
   "metadata": {},
   "outputs": [
    {
     "data": {
      "text/plain": [
       "name      object\n",
       "age        int64\n",
       "salary     int64\n",
       "dtype: object"
      ]
     },
     "execution_count": 135,
     "metadata": {},
     "output_type": "execute_result"
    }
   ],
   "source": [
    "df.dtypes"
   ]
  },
  {
   "cell_type": "code",
   "execution_count": 189,
   "id": "b329909e-05f2-47d7-b228-6bd4af48d036",
   "metadata": {},
   "outputs": [],
   "source": [
    "Student_Scores ={\n",
    "    \"Students\":[\"Student 1\",\"Student 2\",\"Student 3\"],\n",
    "    \"Maths\":[80,90,60],\n",
    "    \"Science\":[60,50,70],\n",
    "    \"English\":[70,70,60],\n",
    "    \n",
    "}\n"
   ]
  },
  {
   "cell_type": "code",
   "execution_count": 191,
   "id": "172f1361-a2bc-4cd3-be1d-01078a190e84",
   "metadata": {},
   "outputs": [
    {
     "data": {
      "text/plain": [
       "{'Students': ['Student 1', 'Student 2', 'Student 3'],\n",
       " 'Maths': [80, 90, 60],\n",
       " 'Science': [60, 50, 70],\n",
       " 'English': [70, 70, 60]}"
      ]
     },
     "execution_count": 191,
     "metadata": {},
     "output_type": "execute_result"
    }
   ],
   "source": [
    "Student_Scores"
   ]
  },
  {
   "cell_type": "code",
   "execution_count": 171,
   "id": "cf8f51a9-e685-44d5-90b3-1a73fc09c41a",
   "metadata": {},
   "outputs": [],
   "source": [
    "df=pd.DataFrame(Student_Scores)"
   ]
  },
  {
   "cell_type": "code",
   "execution_count": 193,
   "id": "2ed622e1-af66-401f-a809-332ccbcd33b3",
   "metadata": {},
   "outputs": [
    {
     "data": {
      "text/html": [
       "<div>\n",
       "<style scoped>\n",
       "    .dataframe tbody tr th:only-of-type {\n",
       "        vertical-align: middle;\n",
       "    }\n",
       "\n",
       "    .dataframe tbody tr th {\n",
       "        vertical-align: top;\n",
       "    }\n",
       "\n",
       "    .dataframe thead th {\n",
       "        text-align: right;\n",
       "    }\n",
       "</style>\n",
       "<table border=\"1\" class=\"dataframe\">\n",
       "  <thead>\n",
       "    <tr style=\"text-align: right;\">\n",
       "      <th></th>\n",
       "      <th>Students</th>\n",
       "      <th>Maths</th>\n",
       "      <th>Science</th>\n",
       "      <th>English</th>\n",
       "    </tr>\n",
       "  </thead>\n",
       "  <tbody>\n",
       "    <tr>\n",
       "      <th>0</th>\n",
       "      <td>Student 1</td>\n",
       "      <td>80</td>\n",
       "      <td>60</td>\n",
       "      <td>70</td>\n",
       "    </tr>\n",
       "    <tr>\n",
       "      <th>1</th>\n",
       "      <td>Student 2</td>\n",
       "      <td>90</td>\n",
       "      <td>50</td>\n",
       "      <td>70</td>\n",
       "    </tr>\n",
       "    <tr>\n",
       "      <th>2</th>\n",
       "      <td>Student 3</td>\n",
       "      <td>60</td>\n",
       "      <td>70</td>\n",
       "      <td>60</td>\n",
       "    </tr>\n",
       "  </tbody>\n",
       "</table>\n",
       "</div>"
      ],
      "text/plain": [
       "    Students  Maths  Science  English\n",
       "0  Student 1     80       60       70\n",
       "1  Student 2     90       50       70\n",
       "2  Student 3     60       70       60"
      ]
     },
     "execution_count": 193,
     "metadata": {},
     "output_type": "execute_result"
    }
   ],
   "source": [
    "df"
   ]
  },
  {
   "cell_type": "code",
   "execution_count": 196,
   "id": "59b8f068-9eb9-49e8-9644-430774bac41b",
   "metadata": {},
   "outputs": [
    {
     "data": {
      "text/plain": [
       "0    Student 1\n",
       "1    Student 2\n",
       "2    Student 3\n",
       "Name: Students, dtype: object"
      ]
     },
     "execution_count": 196,
     "metadata": {},
     "output_type": "execute_result"
    }
   ],
   "source": [
    "df[\"Students\"]"
   ]
  },
  {
   "cell_type": "code",
   "execution_count": 214,
   "id": "8c5055cf-2002-482d-a8f5-f2fc177a6aca",
   "metadata": {},
   "outputs": [],
   "source": [
    "df[[\"Maths\",\"Science\"]] = df[[\"Maths\",\"Science\"]] "
   ]
  },
  {
   "cell_type": "code",
   "execution_count": 216,
   "id": "e8556cc6-2c3d-4bef-abb4-6f528da54a3f",
   "metadata": {},
   "outputs": [
    {
     "data": {
      "text/html": [
       "<div>\n",
       "<style scoped>\n",
       "    .dataframe tbody tr th:only-of-type {\n",
       "        vertical-align: middle;\n",
       "    }\n",
       "\n",
       "    .dataframe tbody tr th {\n",
       "        vertical-align: top;\n",
       "    }\n",
       "\n",
       "    .dataframe thead th {\n",
       "        text-align: right;\n",
       "    }\n",
       "</style>\n",
       "<table border=\"1\" class=\"dataframe\">\n",
       "  <thead>\n",
       "    <tr style=\"text-align: right;\">\n",
       "      <th></th>\n",
       "      <th>Students</th>\n",
       "      <th>Maths</th>\n",
       "      <th>Science</th>\n",
       "      <th>English</th>\n",
       "    </tr>\n",
       "  </thead>\n",
       "  <tbody>\n",
       "    <tr>\n",
       "      <th>0</th>\n",
       "      <td>Student 1</td>\n",
       "      <td>85</td>\n",
       "      <td>65</td>\n",
       "      <td>70</td>\n",
       "    </tr>\n",
       "    <tr>\n",
       "      <th>1</th>\n",
       "      <td>Student 2</td>\n",
       "      <td>95</td>\n",
       "      <td>55</td>\n",
       "      <td>70</td>\n",
       "    </tr>\n",
       "    <tr>\n",
       "      <th>2</th>\n",
       "      <td>Student 3</td>\n",
       "      <td>65</td>\n",
       "      <td>75</td>\n",
       "      <td>60</td>\n",
       "    </tr>\n",
       "  </tbody>\n",
       "</table>\n",
       "</div>"
      ],
      "text/plain": [
       "    Students  Maths  Science  English\n",
       "0  Student 1     85       65       70\n",
       "1  Student 2     95       55       70\n",
       "2  Student 3     65       75       60"
      ]
     },
     "execution_count": 216,
     "metadata": {},
     "output_type": "execute_result"
    }
   ],
   "source": [
    "df"
   ]
  },
  {
   "cell_type": "code",
   "execution_count": 218,
   "id": "3a027c05-5db4-4022-b78a-717a939236c4",
   "metadata": {},
   "outputs": [
    {
     "data": {
      "text/html": [
       "<div>\n",
       "<style scoped>\n",
       "    .dataframe tbody tr th:only-of-type {\n",
       "        vertical-align: middle;\n",
       "    }\n",
       "\n",
       "    .dataframe tbody tr th {\n",
       "        vertical-align: top;\n",
       "    }\n",
       "\n",
       "    .dataframe thead th {\n",
       "        text-align: right;\n",
       "    }\n",
       "</style>\n",
       "<table border=\"1\" class=\"dataframe\">\n",
       "  <thead>\n",
       "    <tr style=\"text-align: right;\">\n",
       "      <th></th>\n",
       "      <th>Students</th>\n",
       "      <th>Maths</th>\n",
       "      <th>Science</th>\n",
       "      <th>English</th>\n",
       "    </tr>\n",
       "  </thead>\n",
       "  <tbody>\n",
       "    <tr>\n",
       "      <th>0</th>\n",
       "      <td>Student 1</td>\n",
       "      <td>85</td>\n",
       "      <td>65</td>\n",
       "      <td>70</td>\n",
       "    </tr>\n",
       "    <tr>\n",
       "      <th>1</th>\n",
       "      <td>Student 2</td>\n",
       "      <td>95</td>\n",
       "      <td>55</td>\n",
       "      <td>70</td>\n",
       "    </tr>\n",
       "    <tr>\n",
       "      <th>2</th>\n",
       "      <td>Student 3</td>\n",
       "      <td>65</td>\n",
       "      <td>75</td>\n",
       "      <td>60</td>\n",
       "    </tr>\n",
       "  </tbody>\n",
       "</table>\n",
       "</div>"
      ],
      "text/plain": [
       "    Students  Maths  Science  English\n",
       "0  Student 1     85       65       70\n",
       "1  Student 2     95       55       70\n",
       "2  Student 3     65       75       60"
      ]
     },
     "execution_count": 218,
     "metadata": {},
     "output_type": "execute_result"
    }
   ],
   "source": [
    "df"
   ]
  },
  {
   "cell_type": "code",
   "execution_count": 220,
   "id": "3f8413b0-a528-41eb-a33a-f613438e27d4",
   "metadata": {},
   "outputs": [],
   "source": [
    "df[\"Maths\"],df[\"Science\"] =df[\"Maths\"]+1,df[\"Science\"]+2"
   ]
  },
  {
   "cell_type": "code",
   "execution_count": 222,
   "id": "c8e6cf1c-deb7-439f-83d8-808aee397490",
   "metadata": {},
   "outputs": [
    {
     "data": {
      "text/html": [
       "<div>\n",
       "<style scoped>\n",
       "    .dataframe tbody tr th:only-of-type {\n",
       "        vertical-align: middle;\n",
       "    }\n",
       "\n",
       "    .dataframe tbody tr th {\n",
       "        vertical-align: top;\n",
       "    }\n",
       "\n",
       "    .dataframe thead th {\n",
       "        text-align: right;\n",
       "    }\n",
       "</style>\n",
       "<table border=\"1\" class=\"dataframe\">\n",
       "  <thead>\n",
       "    <tr style=\"text-align: right;\">\n",
       "      <th></th>\n",
       "      <th>Students</th>\n",
       "      <th>Maths</th>\n",
       "      <th>Science</th>\n",
       "      <th>English</th>\n",
       "    </tr>\n",
       "  </thead>\n",
       "  <tbody>\n",
       "    <tr>\n",
       "      <th>0</th>\n",
       "      <td>Student 1</td>\n",
       "      <td>86</td>\n",
       "      <td>67</td>\n",
       "      <td>70</td>\n",
       "    </tr>\n",
       "    <tr>\n",
       "      <th>1</th>\n",
       "      <td>Student 2</td>\n",
       "      <td>96</td>\n",
       "      <td>57</td>\n",
       "      <td>70</td>\n",
       "    </tr>\n",
       "    <tr>\n",
       "      <th>2</th>\n",
       "      <td>Student 3</td>\n",
       "      <td>66</td>\n",
       "      <td>77</td>\n",
       "      <td>60</td>\n",
       "    </tr>\n",
       "  </tbody>\n",
       "</table>\n",
       "</div>"
      ],
      "text/plain": [
       "    Students  Maths  Science  English\n",
       "0  Student 1     86       67       70\n",
       "1  Student 2     96       57       70\n",
       "2  Student 3     66       77       60"
      ]
     },
     "execution_count": 222,
     "metadata": {},
     "output_type": "execute_result"
    }
   ],
   "source": [
    "df"
   ]
  },
  {
   "cell_type": "code",
   "execution_count": 224,
   "id": "a451354b-bfd7-442b-ba36-a1f2eca16842",
   "metadata": {},
   "outputs": [
    {
     "data": {
      "text/plain": [
       "pandas.core.frame.DataFrame"
      ]
     },
     "execution_count": 224,
     "metadata": {},
     "output_type": "execute_result"
    }
   ],
   "source": [
    "type(df)"
   ]
  },
  {
   "cell_type": "code",
   "execution_count": 230,
   "id": "92728dd3-61f0-4014-a9b5-71e4f8a14c2f",
   "metadata": {},
   "outputs": [
    {
     "data": {
      "text/html": [
       "<div>\n",
       "<style scoped>\n",
       "    .dataframe tbody tr th:only-of-type {\n",
       "        vertical-align: middle;\n",
       "    }\n",
       "\n",
       "    .dataframe tbody tr th {\n",
       "        vertical-align: top;\n",
       "    }\n",
       "\n",
       "    .dataframe thead th {\n",
       "        text-align: right;\n",
       "    }\n",
       "</style>\n",
       "<table border=\"1\" class=\"dataframe\">\n",
       "  <thead>\n",
       "    <tr style=\"text-align: right;\">\n",
       "      <th></th>\n",
       "      <th>Students</th>\n",
       "      <th>Maths</th>\n",
       "      <th>Science</th>\n",
       "      <th>English</th>\n",
       "    </tr>\n",
       "  </thead>\n",
       "  <tbody>\n",
       "    <tr>\n",
       "      <th>0</th>\n",
       "      <td>Student 1</td>\n",
       "      <td>86</td>\n",
       "      <td>67</td>\n",
       "      <td>70</td>\n",
       "    </tr>\n",
       "    <tr>\n",
       "      <th>1</th>\n",
       "      <td>Student 2</td>\n",
       "      <td>96</td>\n",
       "      <td>57</td>\n",
       "      <td>70</td>\n",
       "    </tr>\n",
       "  </tbody>\n",
       "</table>\n",
       "</div>"
      ],
      "text/plain": [
       "    Students  Maths  Science  English\n",
       "0  Student 1     86       67       70\n",
       "1  Student 2     96       57       70"
      ]
     },
     "execution_count": 230,
     "metadata": {},
     "output_type": "execute_result"
    }
   ],
   "source": [
    "df[0:2]"
   ]
  },
  {
   "cell_type": "code",
   "execution_count": 236,
   "id": "34729c44-28e2-43b5-bd4a-9f370fa50228",
   "metadata": {},
   "outputs": [
    {
     "data": {
      "text/html": [
       "<div>\n",
       "<style scoped>\n",
       "    .dataframe tbody tr th:only-of-type {\n",
       "        vertical-align: middle;\n",
       "    }\n",
       "\n",
       "    .dataframe tbody tr th {\n",
       "        vertical-align: top;\n",
       "    }\n",
       "\n",
       "    .dataframe thead th {\n",
       "        text-align: right;\n",
       "    }\n",
       "</style>\n",
       "<table border=\"1\" class=\"dataframe\">\n",
       "  <thead>\n",
       "    <tr style=\"text-align: right;\">\n",
       "      <th></th>\n",
       "      <th>Students</th>\n",
       "      <th>Maths</th>\n",
       "      <th>Science</th>\n",
       "      <th>English</th>\n",
       "    </tr>\n",
       "  </thead>\n",
       "  <tbody>\n",
       "    <tr>\n",
       "      <th>0</th>\n",
       "      <td>Student 1</td>\n",
       "      <td>86</td>\n",
       "      <td>67</td>\n",
       "      <td>70</td>\n",
       "    </tr>\n",
       "    <tr>\n",
       "      <th>1</th>\n",
       "      <td>Student 2</td>\n",
       "      <td>96</td>\n",
       "      <td>57</td>\n",
       "      <td>70</td>\n",
       "    </tr>\n",
       "    <tr>\n",
       "      <th>2</th>\n",
       "      <td>Student 3</td>\n",
       "      <td>66</td>\n",
       "      <td>77</td>\n",
       "      <td>60</td>\n",
       "    </tr>\n",
       "  </tbody>\n",
       "</table>\n",
       "</div>"
      ],
      "text/plain": [
       "    Students  Maths  Science  English\n",
       "0  Student 1     86       67       70\n",
       "1  Student 2     96       57       70\n",
       "2  Student 3     66       77       60"
      ]
     },
     "execution_count": 236,
     "metadata": {},
     "output_type": "execute_result"
    }
   ],
   "source": [
    "df"
   ]
  },
  {
   "cell_type": "code",
   "execution_count": 43,
   "id": "c3f8902d-a573-4030-9302-3ae7af00388a",
   "metadata": {},
   "outputs": [],
   "source": [
    "temperature =[56,34,67]\n",
    "# for fahrenheit_temperatures in temperature:\n",
    "    # fahrenheit_temperatures =[\"45F\",\"78F\",\"89F\"]"
   ]
  },
  {
   "cell_type": "code",
   "execution_count": 45,
   "id": "6dc892b5-9ae5-420c-8b64-459970da96e1",
   "metadata": {},
   "outputs": [],
   "source": [
    "fahrenheit_temperatures= [temp*7 for temp in temperature ]"
   ]
  },
  {
   "cell_type": "code",
   "execution_count": 47,
   "id": "36ed4136-b000-4568-8ae3-526db80494a0",
   "metadata": {},
   "outputs": [
    {
     "data": {
      "text/plain": [
       "[392, 238, 469]"
      ]
     },
     "execution_count": 47,
     "metadata": {},
     "output_type": "execute_result"
    }
   ],
   "source": [
    "fahrenheit_temperatures"
   ]
  },
  {
   "cell_type": "code",
   "execution_count": 69,
   "id": "b12ced32-ad03-4f1f-908a-7dfa9276ea58",
   "metadata": {},
   "outputs": [
    {
     "name": "stdout",
     "output_type": "stream",
     "text": [
      "[152.6]\n"
     ]
    }
   ],
   "source": [
    "temperature =[56,34,67]\n",
    "fahrenheit_temperatures=[]\n",
    "\n",
    "for temp in temperature :\n",
    "     fahrenheit =(temp * 9/5) + 32\n",
    "fahrenheit_temperatures.append( fahrenheit )\n",
    "    \n",
    "print(fahrenheit_temperatures)\n"
   ]
  },
  {
   "cell_type": "code",
   "execution_count": 67,
   "id": "349846aa-e09a-4526-bdaf-0ce665be1632",
   "metadata": {},
   "outputs": [
    {
     "data": {
      "text/plain": [
       "[152.6]"
      ]
     },
     "execution_count": 67,
     "metadata": {},
     "output_type": "execute_result"
    }
   ],
   "source": [
    "fahrenheit_temperatures"
   ]
  },
  {
   "cell_type": "code",
   "execution_count": null,
   "id": "416951c9-d9f4-4df7-a285-e837a774da5f",
   "metadata": {},
   "outputs": [],
   "source": []
  },
  {
   "cell_type": "code",
   "execution_count": 63,
   "id": "a7eba216-cc72-4509-a4a6-e0dab938c6d1",
   "metadata": {},
   "outputs": [
    {
     "name": "stdout",
     "output_type": "stream",
     "text": [
      "[32.0, 50.0, 68.0, 86.0, 104.0, 122.0]\n"
     ]
    }
   ],
   "source": [
    "# List of temperatures in Celsius\n",
    "temperatures = [0, 10, 20, 30, 40, 50]\n",
    "\n",
    "# Initialize an empty list to store Fahrenheit temperatures\n",
    "fahrenheit_temperatures = []\n",
    "\n",
    "# Loop through each temperature in the Celsius list and convert it to Fahrenheit\n",
    "for temp in temperatures:\n",
    "    fahrenheit = (temp * 9/5) + 32\n",
    "    fahrenheit_temperatures.append(fahrenheit)\n",
    "\n",
    "# Output the Fahrenheit temperatures\n",
    "print(fahrenheit_temperatures)\n"
   ]
  },
  {
   "cell_type": "code",
   "execution_count": null,
   "id": "2b7f20ba-3dd7-494f-b5e8-1553c608e168",
   "metadata": {},
   "outputs": [],
   "source": []
  },
  {
   "cell_type": "code",
   "execution_count": 81,
   "id": "edccb7b1-3b0b-4db5-bd3f-a1d56ec471ce",
   "metadata": {},
   "outputs": [
    {
     "data": {
      "text/plain": [
       "[100, 400, 1600, 2500]"
      ]
     },
     "execution_count": 81,
     "metadata": {},
     "output_type": "execute_result"
    }
   ],
   "source": [
    "numbers =[10,20,40,50]\n",
    "Squares =[]\n",
    "for num in numbers :\n",
    "    Square=num**2\n",
    "    Squares.append(Square)\n",
    "Squares"
   ]
  },
  {
   "cell_type": "code",
   "execution_count": 83,
   "id": "fddcc664-12c6-455f-8614-2f604a9289c1",
   "metadata": {},
   "outputs": [
    {
     "data": {
      "text/plain": [
       "[100, 400, 1600, 2500]"
      ]
     },
     "execution_count": 83,
     "metadata": {},
     "output_type": "execute_result"
    }
   ],
   "source": [
    "numbers =[10,20,40,50]\n",
    "Squares =[num**2 for num in numbers]  # using list comprehension\n",
    "Squares"
   ]
  },
  {
   "cell_type": "code",
   "execution_count": 89,
   "id": "360fafba-0830-48c4-af1b-415965e63f28",
   "metadata": {},
   "outputs": [
    {
     "data": {
      "text/plain": [
       "[32.0, 50.0, 68.0]"
      ]
     },
     "execution_count": 89,
     "metadata": {},
     "output_type": "execute_result"
    }
   ],
   "source": [
    "temperature=[0,10,20]\n",
    "fahrenheit_temperatures=[]\n",
    "for temp in temperature:\n",
    "    fahrenheit=(temp*9/5)+32\n",
    "    fahrenheit_temperatures.append(fahrenheit)\n",
    "fahrenheit_temperatures"
   ]
  },
  {
   "cell_type": "code",
   "execution_count": 93,
   "id": "42e5f1cf-7b3f-45c3-95ae-a4a5b774eb34",
   "metadata": {},
   "outputs": [
    {
     "data": {
      "text/plain": [
       "[32.0, 50.0, 68.0]"
      ]
     },
     "execution_count": 93,
     "metadata": {},
     "output_type": "execute_result"
    }
   ],
   "source": [
    "temperature = [0,10,20]\n",
    "fahrenheit_temperatures =[(temp*9/5)+32 for temp in temperature]\n",
    "fahrenheit_temperatures"
   ]
  },
  {
   "cell_type": "code",
   "execution_count": 9,
   "id": "6194a70c-9893-49be-8dd8-2d974d9c04fb",
   "metadata": {},
   "outputs": [
    {
     "ename": "TypeError",
     "evalue": "unsupported operand type(s) for /: 'str' and 'int'",
     "output_type": "error",
     "traceback": [
      "\u001b[1;31m---------------------------------------------------------------------------\u001b[0m",
      "\u001b[1;31mTypeError\u001b[0m                                 Traceback (most recent call last)",
      "Cell \u001b[1;32mIn[9], line 8\u001b[0m\n\u001b[0;32m      1\u001b[0m Student_Scores \u001b[38;5;241m=\u001b[39m{\n\u001b[0;32m      2\u001b[0m     \u001b[38;5;124m\"\u001b[39m\u001b[38;5;124mStudents\u001b[39m\u001b[38;5;124m\"\u001b[39m:[\u001b[38;5;124m\"\u001b[39m\u001b[38;5;124mStudent 1\u001b[39m\u001b[38;5;124m\"\u001b[39m,\u001b[38;5;124m\"\u001b[39m\u001b[38;5;124mStudent 2\u001b[39m\u001b[38;5;124m\"\u001b[39m,\u001b[38;5;124m\"\u001b[39m\u001b[38;5;124mStudent 3\u001b[39m\u001b[38;5;124m\"\u001b[39m],\n\u001b[0;32m      3\u001b[0m     \u001b[38;5;124m\"\u001b[39m\u001b[38;5;124mMaths\u001b[39m\u001b[38;5;124m\"\u001b[39m:[\u001b[38;5;241m80\u001b[39m,\u001b[38;5;241m90\u001b[39m,\u001b[38;5;241m60\u001b[39m],\n\u001b[1;32m   (...)\u001b[0m\n\u001b[0;32m      6\u001b[0m     \n\u001b[0;32m      7\u001b[0m }\n\u001b[1;32m----> 8\u001b[0m Average \u001b[38;5;241m=\u001b[39m[(\u001b[38;5;124m\"\u001b[39m\u001b[38;5;124mMaths\u001b[39m\u001b[38;5;124m\"\u001b[39m\u001b[38;5;241m+\u001b[39m\u001b[38;5;124m\"\u001b[39m\u001b[38;5;124mScience\u001b[39m\u001b[38;5;124m\"\u001b[39m\u001b[38;5;241m+\u001b[39m\u001b[38;5;124m\"\u001b[39m\u001b[38;5;124mEnglish\u001b[39m\u001b[38;5;124m\"\u001b[39m)\u001b[38;5;241m/\u001b[39m\u001b[38;5;241m3\u001b[39m \u001b[38;5;28;01mfor\u001b[39;00m score \u001b[38;5;129;01min\u001b[39;00m \u001b[38;5;124m\"\u001b[39m\u001b[38;5;124mMaths\u001b[39m\u001b[38;5;124m\"\u001b[39m \u001b[38;5;129;01mand\u001b[39;00m \u001b[38;5;124m\"\u001b[39m\u001b[38;5;124mEnglish\u001b[39m\u001b[38;5;124m\"\u001b[39m \u001b[38;5;129;01mand\u001b[39;00m \u001b[38;5;124m\"\u001b[39m\u001b[38;5;124mScience\u001b[39m\u001b[38;5;124m\"\u001b[39m]\n",
      "\u001b[1;31mTypeError\u001b[0m: unsupported operand type(s) for /: 'str' and 'int'"
     ]
    }
   ],
   "source": [
    "Student_Scores ={\n",
    "    \"Students\":[\"Student 1\",\"Student 2\",\"Student 3\"],\n",
    "    \"Maths\":[80,90,60],\n",
    "    \"Science\":[60,50,70],\n",
    "    \"English\":[70,70,60],\n",
    "    \n",
    "}\n",
    "Average =[(\"Maths\"+\"Science\"+\"English\")/3 for score in \"Maths\" and \"English\" and \"Science\"]"
   ]
  },
  {
   "cell_type": "code",
   "execution_count": 1,
   "id": "557d24e0-ec66-4494-8687-ae5760099a86",
   "metadata": {},
   "outputs": [],
   "source": [
    "temperature =[0,10,20]\n",
    "fahrenheit_temperatures=[a+2 for a in temperature]cf"
   ]
  },
  {
   "cell_type": "code",
   "execution_count": 3,
   "id": "a55dc81e-0969-4ccd-9bcd-920631702c72",
   "metadata": {},
   "outputs": [
    {
     "data": {
      "text/plain": [
       "[2, 12, 22]"
      ]
     },
     "execution_count": 3,
     "metadata": {},
     "output_type": "execute_result"
    }
   ],
   "source": [
    "fahrenheit_temperatures"
   ]
  },
  {
   "cell_type": "code",
   "execution_count": 9,
   "id": "1577d762-5531-4a24-be02-1c44cb6e1fac",
   "metadata": {},
   "outputs": [],
   "source": [
    "temperature =[0,10,20]\n",
    "fahrenheit_temperatures=[]\n",
    "for temp in temperature:\n",
    "    fahrenheit = temp+2\n",
    "    fahrenheit_temperatures.append(fahrenheit )\n"
   ]
  },
  {
   "cell_type": "code",
   "execution_count": 11,
   "id": "38488716-045e-40d1-b538-88cfd3b01eab",
   "metadata": {},
   "outputs": [
    {
     "data": {
      "text/plain": [
       "[2, 12, 22]"
      ]
     },
     "execution_count": 11,
     "metadata": {},
     "output_type": "execute_result"
    }
   ],
   "source": [
    "fahrenheit_temperatures"
   ]
  },
  {
   "cell_type": "code",
   "execution_count": null,
   "id": "4211b5ae-b5e8-4e10-a115-94654c4dffe4",
   "metadata": {},
   "outputs": [],
   "source": []
  },
  {
   "cell_type": "code",
   "execution_count": null,
   "id": "421acc58-e0a9-467b-a9d2-c6b017102929",
   "metadata": {},
   "outputs": [],
   "source": []
  },
  {
   "cell_type": "code",
   "execution_count": null,
   "id": "614b2b1d-1e70-4dd6-9efc-873858ca89e5",
   "metadata": {},
   "outputs": [],
   "source": []
  },
  {
   "cell_type": "code",
   "execution_count": null,
   "id": "cb023443-2993-4c57-92bb-914ba11845c9",
   "metadata": {},
   "outputs": [],
   "source": []
  },
  {
   "cell_type": "code",
   "execution_count": null,
   "id": "4b69e6a6-d12e-4fcc-b379-5e2f90d7f0aa",
   "metadata": {},
   "outputs": [],
   "source": []
  },
  {
   "cell_type": "code",
   "execution_count": null,
   "id": "e0987363-737d-4380-8a92-5ee0a1fd5a11",
   "metadata": {},
   "outputs": [],
   "source": []
  },
  {
   "cell_type": "code",
   "execution_count": null,
   "id": "04ccb969-8995-43d0-ac7e-4ceac652e67c",
   "metadata": {},
   "outputs": [],
   "source": []
  },
  {
   "cell_type": "code",
   "execution_count": null,
   "id": "cf4b1dcf-997c-4cf4-be9f-74622a312a7f",
   "metadata": {},
   "outputs": [],
   "source": []
  },
  {
   "cell_type": "code",
   "execution_count": null,
   "id": "f29086fd-6626-4ef0-b075-872b3c1036d3",
   "metadata": {},
   "outputs": [],
   "source": []
  },
  {
   "cell_type": "code",
   "execution_count": null,
   "id": "de7ae00f-7941-43e3-9dc0-8c3ca8e2e10d",
   "metadata": {},
   "outputs": [],
   "source": []
  }
 ],
 "metadata": {
  "kernelspec": {
   "display_name": "Python 3 (ipykernel)",
   "language": "python",
   "name": "python3"
  },
  "language_info": {
   "codemirror_mode": {
    "name": "ipython",
    "version": 3
   },
   "file_extension": ".py",
   "mimetype": "text/x-python",
   "name": "python",
   "nbconvert_exporter": "python",
   "pygments_lexer": "ipython3",
   "version": "3.12.4"
  }
 },
 "nbformat": 4,
 "nbformat_minor": 5
}
